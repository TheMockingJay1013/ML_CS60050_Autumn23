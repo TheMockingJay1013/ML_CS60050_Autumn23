{
 "cells": [
  {
   "attachments": {},
   "cell_type": "markdown",
   "metadata": {},
   "source": [
    "## Assignment 1\n",
    "### Name: Navaneeth Shaji\n",
    "### Roll Number: 21CS30032"
   ]
  },
  {
   "cell_type": "code",
   "execution_count": 44,
   "metadata": {},
   "outputs": [],
   "source": [
    "# import all the necessary libraries here\n",
    "import pandas as pd\n",
    "import numpy as np\n",
    "import matplotlib.pyplot as plt\n",
    "from sklearn.model_selection import train_test_split\n",
    "from sklearn.preprocessing import LabelEncoder\n",
    "from sklearn.linear_model import LogisticRegression"
   ]
  },
  {
   "cell_type": "code",
   "execution_count": 22,
   "metadata": {},
   "outputs": [],
   "source": [
    "df = pd.read_csv('../../dataset/cross-validation.csv')\n",
    "X = df.iloc[:, :-1].values\n",
    "y = df.iloc[:, -1].values\n",
    "\n",
    "m= X.shape[0]\n",
    "n= X.shape[1]\n",
    "\n",
    "label_encoder = LabelEncoder()\n",
    "\n",
    "for i in range(n):\n",
    "    x= X[:,i]\n",
    "    X[:,i] = label_encoder.fit_transform(x)\n",
    "    \n",
    "\n",
    "y = label_encoder.fit_transform(y)\n"
   ]
  },
  {
   "cell_type": "code",
   "execution_count": 26,
   "metadata": {},
   "outputs": [],
   "source": [
    "# splitting the dataset into 5 folds\n",
    "\n",
    "X1, X2, y1, y2 = train_test_split(X, y, test_size=0.2, random_state=0)\n",
    "X2, X3, y2, y3 = train_test_split(X2, y2, test_size=0.25, random_state=0)\n",
    "X3, X4, y3, y4 = train_test_split(X3, y3, test_size=0.33, random_state=0)\n",
    "X4, X5, y4, y5 = train_test_split(X4, y4, test_size=0.5, random_state=0)\n",
    "\n",
    "# storing the folds in a list\n",
    "X_list = [X1, X2, X3, X4, X5]\n",
    "y_list = [y1, y2, y3, y4, y5]\n"
   ]
  },
  {
   "cell_type": "code",
   "execution_count": 42,
   "metadata": {},
   "outputs": [],
   "source": [
    "accuracy_list = np.zeros(5)\n",
    "precision_list = np.zeros(5)\n",
    "recall_list = np.zeros(5)\n",
    "\n",
    "for i in range(5):\n",
    "    X_test = X_list[i]\n",
    "    y_test = y_list[i]\n",
    "    \n",
    "    X_train = np.array([])\n",
    "    y_train = np.array([])\n",
    "    \n",
    "    for j in range(5):\n",
    "        if j != i:\n",
    "            if X_train.size == 0:\n",
    "                X_train = X_list[j]\n",
    "                y_train = y_list[j]\n",
    "            else:\n",
    "                X_train = np.concatenate((X_train, X_list[j]))\n",
    "                y_train = np.concatenate((y_train, y_list[j]))\n",
    "\n",
    "    \n",
    "    # training the model\n",
    "    classifier = LogisticRegression(random_state=0,solver='saga',multi_class='multinomial',max_iter=10000)\n",
    "    classifier.fit(X_train, y_train)\n",
    "    \n",
    "    # predicting the test set results\n",
    "    y_pred = classifier.predict(X_test)\n",
    "    \n",
    "    # making the confusion matrix\n",
    "    from sklearn.metrics import confusion_matrix\n",
    "    cm = confusion_matrix(y_test, y_pred)\n",
    "    \n",
    "    acc = accuracy_score(y_test, y_pred)\n",
    "    accuracy_list[i] = acc\n",
    "    \n",
    "    precision = precision_score(y_test, y_pred)\n",
    "    precision_list[i] = precision\n",
    "    \n",
    "    recall = recall_score(y_test, y_pred)\n",
    "    recall_list[i] = recall\n",
    "    \n",
    "    "
   ]
  },
  {
   "cell_type": "code",
   "execution_count": 43,
   "metadata": {},
   "outputs": [
    {
     "name": "stdout",
     "output_type": "stream",
     "text": [
      "Accuracy:  0.7739298680598601\n",
      "Precision:  0.7902791452826095\n",
      "Recall:  0.946923076923077\n"
     ]
    }
   ],
   "source": [
    "print(\"Accuracy: \", accuracy_list.mean())\n",
    "print(\"Precision: \", precision_list.mean())\n",
    "print(\"Recall: \", recall_list.mean())"
   ]
  },
  {
   "cell_type": "code",
   "execution_count": 37,
   "metadata": {},
   "outputs": [
    {
     "name": "stdout",
     "output_type": "stream",
     "text": [
      "[[0 2]\n",
      " [1 3]]\n",
      "0.5\n"
     ]
    }
   ],
   "source": [
    "regressor = LogisticRegression(random_state=0,max_iter=10000,solver='saga')\n",
    "regressor.fit(X_train, y_train)\n",
    "\n",
    "y_pred = regressor.predict(X_test)\n",
    "\n",
    "from sklearn.metrics import confusion_matrix, accuracy_score,precision_score,recall_score\n",
    "cm = confusion_matrix(y_test, y_pred)\n",
    "print(cm)\n",
    "print(accuracy_score(y_test,y_pred))\n"
   ]
  },
  {
   "cell_type": "code",
   "execution_count": null,
   "metadata": {},
   "outputs": [],
   "source": []
  }
 ],
 "metadata": {
  "kernelspec": {
   "display_name": "base",
   "language": "python",
   "name": "python3"
  },
  "language_info": {
   "codemirror_mode": {
    "name": "ipython",
    "version": 3
   },
   "file_extension": ".py",
   "mimetype": "text/x-python",
   "name": "python",
   "nbconvert_exporter": "python",
   "pygments_lexer": "ipython3",
   "version": "3.9.17"
  },
  "orig_nbformat": 4,
  "vscode": {
   "interpreter": {
    "hash": "3067ead486e059ec00ffe7555bdb889e6e264a24dc711bf108106cc7baee8d5d"
   }
  }
 },
 "nbformat": 4,
 "nbformat_minor": 2
}
