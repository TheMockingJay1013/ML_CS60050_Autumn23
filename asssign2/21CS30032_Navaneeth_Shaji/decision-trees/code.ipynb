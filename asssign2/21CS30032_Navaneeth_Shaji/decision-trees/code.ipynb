{
 "cells": [
  {
   "attachments": {},
   "cell_type": "markdown",
   "metadata": {},
   "source": [
    "## Assignment 1\n",
    "### Name: Navaneeth Shaji\n",
    "### Roll Number: 21CS30032"
   ]
  },
  {
   "cell_type": "code",
   "execution_count": 52,
   "metadata": {},
   "outputs": [],
   "source": [
    "# import all the necessary libraries here\n",
    "import pandas as pd\n",
    "import numpy as np\n",
    "import matplotlib.pyplot as plt\n",
    "from sklearn.model_selection import train_test_split\n",
    "from sklearn.preprocessing import StandardScaler\n",
    "from sklearn.tree import plot_tree"
   ]
  },
  {
   "cell_type": "code",
   "execution_count": 88,
   "metadata": {},
   "outputs": [
    {
     "name": "stdout",
     "output_type": "stream",
     "text": [
      "Index(['Pregnancies', 'Glucose', 'BloodPressure', 'SkinThickness', 'Insulin',\n",
      "       'BMI', 'DiabetesPedigreeFunction', 'Age'],\n",
      "      dtype='object')\n"
     ]
    }
   ],
   "source": [
    "df = pd.read_csv('../../dataset/decision-tree.csv')\n",
    "X = df.iloc[:, :-1].values\n",
    "y = df.iloc[:, -1].values\n",
    "\n",
    "# normalising the data\n",
    "st = StandardScaler() \n",
    "X_norm = st.fit_transform(X)\n",
    "\n",
    "columns = df.columns[:-1]\n"
   ]
  },
  {
   "cell_type": "code",
   "execution_count": 69,
   "metadata": {},
   "outputs": [],
   "source": [
    "# splitting the  dataset into training , validation and testing wihtout normalising the data\n",
    "X_train,X_test,y_train,y_test = train_test_split(X,y,random_state=104,train_size=0.8,shuffle=True)\n",
    "X_train,X_val,y_train,y_val = train_test_split(X_train,y_train,random_state=104,train_size=5/8,shuffle=True)"
   ]
  },
  {
   "cell_type": "markdown",
   "metadata": {},
   "source": [
    "### Making the decision Tree\n",
    "\n",
    "A class Node determines the nodes for the decision tree where each tree stores the entropy of the training data that it has received , the feature that is best to split upon for that node , the thresfold value to make the split and also what the majority outcome of the dataset is that node \n"
   ]
  },
  {
   "cell_type": "code",
   "execution_count": 70,
   "metadata": {},
   "outputs": [],
   "source": [
    "# function to find the entropy \n",
    "def entropy(y) : \n",
    "    x=np.count_nonzero(y==1)/len(y)\n",
    "    if x==1 or x==0 :\n",
    "        return 0\n",
    "    \n",
    "    e= -x*np.log2(x) - (1-x)*np.log2(1-x)\n",
    "    \n",
    "    return e"
   ]
  },
  {
   "cell_type": "code",
   "execution_count": 71,
   "metadata": {},
   "outputs": [],
   "source": [
    "# creating a node class for the tree\n",
    "class NODE :\n",
    "    def __init__(self,depth):\n",
    "        self.type=\"internal\"\n",
    "        self.entropy = None\n",
    "        self.left = None\n",
    "        self.right = None\n",
    "        self.feature = None\n",
    "        self.label = None\n",
    "        self.pred = None\n",
    "        self.depth=depth"
   ]
  },
  {
   "cell_type": "code",
   "execution_count": 72,
   "metadata": {},
   "outputs": [],
   "source": [
    "# finding the feature_split value for a feature\n",
    "\n",
    "def feature_split(X,y,feature) :\n",
    "    m = X.shape[0]\n",
    "    x=X[:,feature]\n",
    "    \n",
    "    y_copy = np.copy(y)\n",
    "    \n",
    "    ind = np.argsort(x)\n",
    "    x=x[ind]\n",
    "    y_copy = y_copy[ind]\n",
    "    \n",
    "    feature_split_list = []\n",
    "    \n",
    "    for i in range(1,m) :\n",
    "        if y_copy[i]!=y_copy[i-1] : \n",
    "            feature_split_list.append((x[i-1]+x[i])/2)\n",
    "    \n",
    "    entropy_list=[]\n",
    "    \n",
    "    \n",
    "    \n",
    "    for feature_split in feature_split_list :\n",
    "        y_left=np.array([])\n",
    "        y_right=np.array([])\n",
    "        \n",
    "        for i in range(m):\n",
    "            if(x[i]<=feature_split) :\n",
    "                y_left=np.append(y_left,y_copy[i])\n",
    "            else :\n",
    "                y_right=np.append(y_right,y_copy[i])\n",
    "                \n",
    "        if(len(y_left)==0 or len(y_right) == 0) :\n",
    "                feature_split_list.remove(feature_split)\n",
    "                continue \n",
    "        # the weighted sum of entropies of daughter nodes\n",
    "        entropy_sum = len(y_left)*entropy(y_left)/len(y_copy) + len(y_right)*entropy(y_right)/len(y_copy)\n",
    "        entropy_list.append(entropy_sum)\n",
    "        \n",
    "        \n",
    "    if len(entropy_list) == 0 :\n",
    "        return None ,None\n",
    "    min_entropy_sum = np.min(entropy_list)\n",
    "    t=np.argmin(entropy_list)\n",
    "    feature_split = feature_split_list[t] \n",
    "    \n",
    "    return min_entropy_sum , feature_split"
   ]
  },
  {
   "cell_type": "code",
   "execution_count": 73,
   "metadata": {},
   "outputs": [],
   "source": [
    "# function to best feature \n",
    "\n",
    "def best_feature(X,y) :\n",
    "    m=X.shape[0]\n",
    "    n=X.shape[1]\n",
    "    \n",
    "    # stores the smallest entropy possible for each feature\n",
    "    entropy_list=[]\n",
    "    label_list = []\n",
    "    \n",
    "    for i in range(n) :\n",
    "        entropy , label = feature_split(X,y,i)\n",
    "        if entropy != None and label != None :\n",
    "            entropy_list.append(entropy)\n",
    "            label_list.append(label)\n",
    "        \n",
    "    \n",
    "    min_entropy = np.min(entropy_list)\n",
    "    feature = np.argmin(entropy_list)\n",
    "    label = label_list[feature]\n",
    "    \n",
    "    return feature,min_entropy,label "
   ]
  },
  {
   "cell_type": "code",
   "execution_count": 74,
   "metadata": {},
   "outputs": [],
   "source": [
    "# function to build the decision tree \n",
    "def DecisionTree(X,y,depth=0) :\n",
    "    \n",
    "    m=X.shape[0]\n",
    "    n=X.shape[1]\n",
    "    \n",
    "    root = NODE(depth)\n",
    "    \n",
    "    # base case \n",
    "    if m <10 or y.ptp() == 0 or n==0 :\n",
    "        root.type = \"leaf\"\n",
    "        values , counts = np.unique(y,return_counts=True)\n",
    "        root.pred=values[counts.argmax()]\n",
    "        return root\n",
    "\n",
    "    root.entropy = entropy(y)\n",
    "    \n",
    "    \n",
    "    feature,entropy_sum,label = best_feature(X,y)\n",
    "    \n",
    "    information_gain = root.entropy - entropy_sum \n",
    "    root.feature = feature\n",
    "    root.label = label \n",
    "    values , counts = np.unique(y,return_counts=True)\n",
    "    root.pred=values[counts.argmax()]\n",
    "    \n",
    "    # splitting X and y based on the feature \n",
    "    X_left = np.empty((0,n))\n",
    "    X_right = np.empty((0,n))\n",
    "    y_left = np.array([])\n",
    "    y_right = np.array([])\n",
    "    \n",
    "    for i in range(m) :\n",
    "        if(X[i][root.feature] <= root.label) :\n",
    "            X_left = np.r_[X_left,[X[i]]]\n",
    "            y_left = np.append(y_left,y[i])\n",
    "        else :\n",
    "            X_right = np.r_[X_right,[X[i]]]\n",
    "            y_right = np.append(y_right,y[i])\n",
    "            \n",
    "    \n",
    "    \n",
    "    root.left = DecisionTree(X_left,y_left,depth+1)\n",
    "    root.right = DecisionTree(X_right,y_right,depth+1)\n",
    "    \n",
    "    return root\n",
    "    "
   ]
  },
  {
   "cell_type": "code",
   "execution_count": 75,
   "metadata": {},
   "outputs": [],
   "source": [
    "root=DecisionTree(X_train,y_train)"
   ]
  },
  {
   "cell_type": "markdown",
   "metadata": {},
   "source": [
    "## Testing the decision tree on a Validation set \n",
    "\n",
    "The decision tree is then tested on the validation set and we calculate the accuracy precision and recall values for them \n",
    "We also try this for various values of max depth that the test can go to and based on this we decide whats the best size for our tree . We use this info to prune the tree\n"
   ]
  },
  {
   "cell_type": "code",
   "execution_count": 76,
   "metadata": {},
   "outputs": [],
   "source": [
    "# making a new prediction function with max depth\n",
    "def predicted(root,x,max_depth=100):\n",
    "    if root.type == \"leaf\" or root.depth == max_depth :\n",
    "        return root.pred\n",
    "    if x[root.feature] <= root.label :\n",
    "        pred = predicted(root.left,x,max_depth)\n",
    "    else :\n",
    "        pred = predicted(root.right,x,max_depth)\n",
    "    return pred"
   ]
  },
  {
   "cell_type": "code",
   "execution_count": 77,
   "metadata": {},
   "outputs": [],
   "source": [
    "# obtaining the predicted values over the test set for different max_depths\n",
    "# The tree was found to have a depth of 13 so we are taking max_depths from 1 to 13\n",
    "depth = [i for i in range(1,14)]\n",
    "accuracy = np.array([])\n",
    "precision = np.array([])\n",
    "recall = np.array([])\n",
    "for max_depth in depth:\n",
    "\n",
    "    y_pred = np.array([])\n",
    "    m = X_val.shape[0]\n",
    "    for i in range(m) :\n",
    "        test = predicted(root,X_val[i],max_depth)\n",
    "        y_pred = np.append(y_pred,test)\n",
    "    \n",
    "    # making the confusion matrix\n",
    "    c = np.zeros((2,2))\n",
    "\n",
    "    for i in range(m) :\n",
    "        c[y_val[i]][int(y_pred[i])] =c[y_val[i]][int(y_pred[i])] + 1\n",
    "    \n",
    "\n",
    "    # calculating accuracy \n",
    "    acc = (c[0][0] + c[1][1])/(c[0][0] + c[0][1] + c[1][0] + c[1][1]) \n",
    "    accuracy=np.append(accuracy,acc) \n",
    "\n",
    "    # calculating precision \n",
    "    pre = c[1][1] / (c[1][1] + c[0][1])\n",
    "    precision=np.append(precision,pre)\n",
    "\n",
    "    #calculating recall\n",
    "    rec = c[1][1] / (c[1][1] + c[1][0])\n",
    "    recall=np.append(recall,rec)\n"
   ]
  },
  {
   "cell_type": "code",
   "execution_count": 78,
   "metadata": {},
   "outputs": [
    {
     "data": {
      "image/png": "[encoded data removed]",
      "text/plain": [
       "<Figure size 640x480 with 1 Axes>"
      ]
     },
     "metadata": {},
     "output_type": "display_data"
    }
   ],
   "source": [
    "# plotting the accuracy, precision and recall vs max_depth\n",
    "plt.plot(depth,accuracy,label=\"accuracy\")\n",
    "plt.plot(depth,precision,label=\"precision\")\n",
    "plt.plot(depth,recall,label=\"recall\")\n",
    "plt.xlabel(\"max_depth\")\n",
    "plt.ylabel(\"accuracy/precision/recall\")\n",
    "plt.legend()\n",
    "plt.show()\n"
   ]
  },
  {
   "cell_type": "markdown",
   "metadata": {},
   "source": [
    "Now we need to prune this tree so that we dont overfit the model \n",
    "A reduced error pruning is done to achieve this"
   ]
  },
  {
   "cell_type": "code",
   "execution_count": 89,
   "metadata": {},
   "outputs": [],
   "source": [
    "# pruning the tree using reduced error pruning\n",
    "def prune(root) :\n",
    "    if root.type == \"leaf\" :\n",
    "        return \n",
    "    prune(root.left)\n",
    "    prune(root.right)\n",
    "    \n",
    "    if root.left.type == \"leaf\" and root.right.type == \"leaf\" :\n",
    "        left = root.left \n",
    "        right = root.right\n",
    "        \n",
    "        # calculating the accuracy before pruning\n",
    "        y_pred = np.array([])\n",
    "        m = X_val.shape[0]\n",
    "        for i in range(m) :\n",
    "            test = predicted(root,X_val[i])\n",
    "            y_pred = np.append(y_pred,test)\n",
    "        \n",
    "        # making the confusion matrix\n",
    "        c = np.zeros((2,2))\n",
    "        \n",
    "        for i in range(m) :\n",
    "            c[y_val[i]][int(y_pred[i])] =c[y_val[i]][int(y_pred[i])] + 1\n",
    "            \n",
    "        # calculating accuracy\n",
    "        acc_bfr = (c[0][0] + c[1][1])/(c[0][0] + c[0][1] + c[1][0] + c[1][1])\n",
    "        \n",
    "        # now make root as the leaf node \n",
    "        root.type = \"leaf\"\n",
    "        root.left = None\n",
    "        root.right = None\n",
    "        \n",
    "        \n",
    "        # calculating the accuracy after pruning\n",
    "        y_pred = np.array([])\n",
    "        m = X_val.shape[0]\n",
    "        for i in range(m) :\n",
    "            test = predicted(root,X_val[i])\n",
    "            y_pred = np.append(y_pred,test)\n",
    "        \n",
    "        # making the confusion matrix\n",
    "        c = np.zeros((2,2))\n",
    "        \n",
    "        for i in range(m) :\n",
    "            c[y_val[i]][int(y_pred[i])] =c[y_val[i]][int(y_pred[i])] + 1\n",
    "            \n",
    "        # calculating accuracy\n",
    "        acc_aft = (c[0][0] + c[1][1])/(c[0][0] + c[0][1] + c[1][0] + c[1][1])\n",
    "        \n",
    "        if acc_bfr > acc_aft :\n",
    "            root.type = \"internal\"\n",
    "            root.left = left\n",
    "            root.right = right\n",
    "        \n",
    "        return"
   ]
  },
  {
   "cell_type": "code",
   "execution_count": null,
   "metadata": {},
   "outputs": [],
   "source": [
    "prune(root)"
   ]
  }
 ],
 "metadata": {
  "kernelspec": {
   "display_name": "base",
   "language": "python",
   "name": "python3"
  },
  "language_info": {
   "codemirror_mode": {
    "name": "ipython",
    "version": 3
   },
   "file_extension": ".py",
   "mimetype": "text/x-python",
   "name": "python",
   "nbconvert_exporter": "python",
   "pygments_lexer": "ipython3",
   "version": "3.9.17"
  },
  "orig_nbformat": 4,
  "vscode": {
   "interpreter": {
    "hash": "3067ead486e059ec00ffe7555bdb889e6e264a24dc711bf108106cc7baee8d5d"
   }
  }
 },
 "nbformat": 4,
 "nbformat_minor": 2
}
