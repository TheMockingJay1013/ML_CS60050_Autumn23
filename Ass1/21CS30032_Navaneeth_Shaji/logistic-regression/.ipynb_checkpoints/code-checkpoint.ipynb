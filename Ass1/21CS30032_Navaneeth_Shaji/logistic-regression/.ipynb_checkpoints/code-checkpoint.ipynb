{
 "cells": [
  {
   "attachments": {},
   "cell_type": "markdown",
   "metadata": {},
   "source": [
    "## Assignment 1\n",
    "### Name:Navaneeth Shaji\n",
    "### Roll Number: 21CS30032"
   ]
  },
  {
   "cell_type": "code",
   "execution_count": 19,
   "metadata": {},
   "outputs": [],
   "source": [
    "# import all the necessary libraries here\n",
    "import pandas as pd\n",
    "import numpy as np\n",
    "import matplotlib.pyplot as plt\n",
    "from sklearn.model_selection import train_test_split\n",
    "from sklearn.preprocessing import StandardScaler\n",
    "from sklearn.preprocessing import LabelEncoder"
   ]
  },
  {
   "cell_type": "code",
   "execution_count": 20,
   "metadata": {},
   "outputs": [],
   "source": [
    "df = pd.read_excel('../../dataset/logistic-regression/Pumpkin_Seeds_Dataset.xlsx')\n",
    "X = df.iloc[:, :-1].values\n",
    "y = df.iloc[:, -1].values\n",
    "column_of_ones = np.ones((X.shape[0],1))\n",
    "st = StandardScaler()\n",
    "X_norm = st.fit_transform(X)\n",
    "X_norm = np.hstack((column_of_ones,X_norm))\n",
    "\n",
    "# encoding categorical variables\n",
    "label_encoder = LabelEncoder()\n",
    "\n",
    "y = label_encoder.fit_transform(y)"
   ]
  },
  {
   "cell_type": "code",
   "execution_count": 21,
   "metadata": {},
   "outputs": [],
   "source": [
    "# splitting the  dataset into training , validation and testing wihtout normalising the data\n",
    "X_train,X_test,y_train,y_test = train_test_split(X_norm,y,random_state=104,train_size=0.8)\n",
    "X_train,X_validation,y_train,y_validation = train_test_split(X_train,y_train,random_state=104,train_size=5/8)"
   ]
  },
  {
   "cell_type": "code",
   "execution_count": 22,
   "metadata": {},
   "outputs": [],
   "source": [
    "# activation function\n",
    "def sigmoid(x,theta) :\n",
    "    x = np.dot(theta,x)\n",
    "    g = 1/(1+np.exp(-x))\n",
    "    return g"
   ]
  },
  {
   "cell_type": "code",
   "execution_count": 23,
   "metadata": {},
   "outputs": [],
   "source": [
    "# computes the value of the cost \n",
    "def cost_func(x ,y,theta , sigmoid) : \n",
    "    m = x.shape[0] \n",
    "    \n",
    "    cost_sum =0 \n",
    "    \n",
    "    for i in range(m) : \n",
    "        h = sigmoid(x[i],theta)\n",
    "        cost = -(y[i]*np.log(h) + (1-y[i])*np.log(1-h))\n",
    "        cost_sum = cost_sum + cost \n",
    "    cost_sum = cost_sum / m\n",
    "    \n",
    "    return cost_sum"
   ]
  },
  {
   "cell_type": "code",
   "execution_count": 24,
   "metadata": {},
   "outputs": [],
   "source": [
    "# returns a numpy array having the values of the gradient of each feature \n",
    "def find_gradient(x,y,theta,sigmoid)  :\n",
    "    m = x.shape[0]\n",
    "    n = x.shape[1]\n",
    "    \n",
    "    dl_d0 = np.zeros((n,))\n",
    "    \n",
    "    \n",
    "    for j in range(n) : \n",
    "        err_sum = 0\n",
    "        for i in range(m) :\n",
    "            err = sigmoid(x[i],theta) - y[i]\n",
    "            err = err * x[i][j]\n",
    "            err_sum = err_sum + err \n",
    "        dl_d0[j] = err_sum /m\n",
    "    \n",
    "    return dl_d0"
   ]
  },
  {
   "cell_type": "code",
   "execution_count": 25,
   "metadata": {},
   "outputs": [],
   "source": [
    "# implements the gradient descent using find_gradient function and sigmoid function\n",
    "def gradient_descent(x,y,alpha,iterations,find_gradient,sigmoid) : \n",
    "    m = x.shape[0]\n",
    "    n = x.shape[1] \n",
    "    \n",
    "    theta = np.ones(n)\n",
    "    \n",
    "    for i in range(iterations) :\n",
    "        gradient = find_gradient(x,y,theta,sigmoid)\n",
    "        theta = theta - alpha*gradient \n",
    "        \n",
    "    return theta "
   ]
  },
  {
   "cell_type": "code",
   "execution_count": 26,
   "metadata": {},
   "outputs": [
    {
     "name": "stdout",
     "output_type": "stream",
     "text": [
      "Theta =  [-0.0970886   0.03835434  0.21907652  0.56310666 -0.41463887  0.03173037\n",
      " -0.31828903  1.17413275  0.65368725  0.08231882  0.03016655  1.71005542\n",
      "  0.40895983]\n",
      "Confusion matrix =  [[589.  66.]\n",
      " [ 96. 499.]]\n",
      "Accuracy =  0.8704\n",
      "Precision =  0.8831858407079646\n",
      "Recall =  0.838655462184874\n",
      "\n",
      "\n",
      "\n",
      "\n"
     ]
    }
   ],
   "source": [
    "# Here I am trying to do the logistic regression on 1000 iterations using three values for alpha \n",
    "\n",
    "\n",
    "alpha = [0.1] \n",
    "iterations_no = 1000 \n",
    "for i in alpha :\n",
    "    theta = gradient_descent(X_train,y_train,i,iterations_no,find_gradient,sigmoid)\n",
    "    print(\"Theta = \",theta)\n",
    "    \n",
    "    \n",
    "    c = np.zeros((2,2))\n",
    "\n",
    "    # making the confusion matrix\n",
    "\n",
    "    m = X_train.shape[0] \n",
    "\n",
    "    for i in range(m) :\n",
    "        h = sigmoid(X_train[i],theta)\n",
    "        if(h>=0.5 and y_train[i] == 1) : \n",
    "            c[1][1] = c[1][1] + 1\n",
    "        elif(h>=0.5 and y_train[i] == 0) :\n",
    "            c[0][1] = c[0][1]+1\n",
    "        elif (h<0.5 and y_train[i] == 1) :\n",
    "            c[1][0] = c[1][0] + 1\n",
    "        elif(h<0.5 and y_train[i] == 0) :\n",
    "            c[0][0] = c[0][0] + 1 \n",
    "    print(\"Confusion matrix = \",c)\n",
    "    \n",
    "    #calculating mean\n",
    "\n",
    "\n",
    "    # calculating accuracy \n",
    "    acc = (c[0][0] + c[1][1]) /(c[0][0] + c[0][1] + c[1][0] + c[1][1]) \n",
    "    print(\"Accuracy = \",acc) \n",
    "\n",
    "    # calculating precision \n",
    "    pre = c[1][1] / (c[1][1] + c[0][1])\n",
    "    print(\"Precision = \" ,pre)\n",
    "\n",
    "    #calculating recall\n",
    "    rec = c[1][1] / (c[1][1] + c[1][0])\n",
    "    print(\"Recall = \" , rec)\n",
    "    \n",
    "    print(\"\\n\\n\\n\")\n",
    "        "
   ]
  }
 ],
 "metadata": {
  "kernelspec": {
   "display_name": "env",
   "language": "python",
   "name": "env"
  },
  "language_info": {
   "codemirror_mode": {
    "name": "ipython",
    "version": 3
   },
   "file_extension": ".py",
   "mimetype": "text/x-python",
   "name": "python",
   "nbconvert_exporter": "python",
   "pygments_lexer": "ipython3",
   "version": "3.10.0"
  },
  "vscode": {
   "interpreter": {
    "hash": "3067ead486e059ec00ffe7555bdb889e6e264a24dc711bf108106cc7baee8d5d"
   }
  }
 },
 "nbformat": 4,
 "nbformat_minor": 4
}
