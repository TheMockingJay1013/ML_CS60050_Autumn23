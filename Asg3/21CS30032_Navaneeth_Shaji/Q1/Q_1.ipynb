{
 "cells": [
  {
   "cell_type": "code",
   "execution_count": 126,
   "metadata": {},
   "outputs": [],
   "source": [
    "import pandas as pd \n",
    "import numpy as np \n",
    "from ucimlrepo import fetch_ucirepo\n",
    "\n",
    "\n",
    "from sklearn.model_selection import train_test_split\n",
    "from sklearn.svm import SVC\n",
    "from sklearn.preprocessing import StandardScaler\n",
    "from tabulate import tabulate"
   ]
  },
  {
   "cell_type": "markdown",
   "metadata": {},
   "source": [
    "## Part A : SVM Implementation\n",
    "\n",
    "Using a linear kernel"
   ]
  },
  {
   "cell_type": "code",
   "execution_count": 127,
   "metadata": {},
   "outputs": [],
   "source": [
    "# laoding the dataset and normalising it \n",
    "# fetch dataset\n",
    "spambase = fetch_ucirepo(id=94)\n",
    "\n",
    "\n",
    "# data (as pandas dataframes)\n",
    "X = spambase.data.features\n",
    "y = spambase.data.targets\n",
    "\n",
    "#normalise X\n",
    "scaler = StandardScaler()\n",
    "X = scaler.fit_transform(X)\n"
   ]
  },
  {
   "cell_type": "code",
   "execution_count": 128,
   "metadata": {},
   "outputs": [
    {
     "name": "stdout",
     "output_type": "stream",
     "text": [
      "(4601, 57)\n"
     ]
    }
   ],
   "source": [
    "# Splitting the dataset to train and test \n",
    "X_train,X_test,y_train,y_test = train_test_split(X,y,random_state=104,train_size=0.8,shuffle=True)\n",
    "\n",
    "print(X.shape)"
   ]
  },
  {
   "cell_type": "code",
   "execution_count": 129,
   "metadata": {},
   "outputs": [
    {
     "data": {
      "text/html": [
       "<style>#sk-container-id-10 {color: black;}#sk-container-id-10 pre{padding: 0;}#sk-container-id-10 div.sk-toggleable {background-color: white;}#sk-container-id-10 label.sk-toggleable__label {cursor: pointer;display: block;width: 100%;margin-bottom: 0;padding: 0.3em;box-sizing: border-box;text-align: center;}#sk-container-id-10 label.sk-toggleable__label-arrow:before {content: \"▸\";float: left;margin-right: 0.25em;color: #696969;}#sk-container-id-10 label.sk-toggleable__label-arrow:hover:before {color: black;}#sk-container-id-10 div.sk-estimator:hover label.sk-toggleable__label-arrow:before {color: black;}#sk-container-id-10 div.sk-toggleable__content {max-height: 0;max-width: 0;overflow: hidden;text-align: left;background-color: #f0f8ff;}#sk-container-id-10 div.sk-toggleable__content pre {margin: 0.2em;color: black;border-radius: 0.25em;background-color: #f0f8ff;}#sk-container-id-10 input.sk-toggleable__control:checked~div.sk-toggleable__content {max-height: 200px;max-width: 100%;overflow: auto;}#sk-container-id-10 input.sk-toggleable__control:checked~label.sk-toggleable__label-arrow:before {content: \"▾\";}#sk-container-id-10 div.sk-estimator input.sk-toggleable__control:checked~label.sk-toggleable__label {background-color: #d4ebff;}#sk-container-id-10 div.sk-label input.sk-toggleable__control:checked~label.sk-toggleable__label {background-color: #d4ebff;}#sk-container-id-10 input.sk-hidden--visually {border: 0;clip: rect(1px 1px 1px 1px);clip: rect(1px, 1px, 1px, 1px);height: 1px;margin: -1px;overflow: hidden;padding: 0;position: absolute;width: 1px;}#sk-container-id-10 div.sk-estimator {font-family: monospace;background-color: #f0f8ff;border: 1px dotted black;border-radius: 0.25em;box-sizing: border-box;margin-bottom: 0.5em;}#sk-container-id-10 div.sk-estimator:hover {background-color: #d4ebff;}#sk-container-id-10 div.sk-parallel-item::after {content: \"\";width: 100%;border-bottom: 1px solid gray;flex-grow: 1;}#sk-container-id-10 div.sk-label:hover label.sk-toggleable__label {background-color: #d4ebff;}#sk-container-id-10 div.sk-serial::before {content: \"\";position: absolute;border-left: 1px solid gray;box-sizing: border-box;top: 0;bottom: 0;left: 50%;z-index: 0;}#sk-container-id-10 div.sk-serial {display: flex;flex-direction: column;align-items: center;background-color: white;padding-right: 0.2em;padding-left: 0.2em;position: relative;}#sk-container-id-10 div.sk-item {position: relative;z-index: 1;}#sk-container-id-10 div.sk-parallel {display: flex;align-items: stretch;justify-content: center;background-color: white;position: relative;}#sk-container-id-10 div.sk-item::before, #sk-container-id-10 div.sk-parallel-item::before {content: \"\";position: absolute;border-left: 1px solid gray;box-sizing: border-box;top: 0;bottom: 0;left: 50%;z-index: -1;}#sk-container-id-10 div.sk-parallel-item {display: flex;flex-direction: column;z-index: 1;position: relative;background-color: white;}#sk-container-id-10 div.sk-parallel-item:first-child::after {align-self: flex-end;width: 50%;}#sk-container-id-10 div.sk-parallel-item:last-child::after {align-self: flex-start;width: 50%;}#sk-container-id-10 div.sk-parallel-item:only-child::after {width: 0;}#sk-container-id-10 div.sk-dashed-wrapped {border: 1px dashed gray;margin: 0 0.4em 0.5em 0.4em;box-sizing: border-box;padding-bottom: 0.4em;background-color: white;}#sk-container-id-10 div.sk-label label {font-family: monospace;font-weight: bold;display: inline-block;line-height: 1.2em;}#sk-container-id-10 div.sk-label-container {text-align: center;}#sk-container-id-10 div.sk-container {/* jupyter's `normalize.less` sets `[hidden] { display: none; }` but bootstrap.min.css set `[hidden] { display: none !important; }` so we also need the `!important` here to be able to override the default hidden behavior on the sphinx rendered scikit-learn.org. See: https://github.com/scikit-learn/scikit-learn/issues/21755 */display: inline-block !important;position: relative;}#sk-container-id-10 div.sk-text-repr-fallback {display: none;}</style><div id=\"sk-container-id-10\" class=\"sk-top-container\"><div class=\"sk-text-repr-fallback\"><pre>SVC(kernel=&#x27;linear&#x27;)</pre><b>In a Jupyter environment, please rerun this cell to show the HTML representation or trust the notebook. <br />On GitHub, the HTML representation is unable to render, please try loading this page with nbviewer.org.</b></div><div class=\"sk-container\" hidden><div class=\"sk-item\"><div class=\"sk-estimator sk-toggleable\"><input class=\"sk-toggleable__control sk-hidden--visually\" id=\"sk-estimator-id-10\" type=\"checkbox\" checked><label for=\"sk-estimator-id-10\" class=\"sk-toggleable__label sk-toggleable__label-arrow\">SVC</label><div class=\"sk-toggleable__content\"><pre>SVC(kernel=&#x27;linear&#x27;)</pre></div></div></div></div></div>"
      ],
      "text/plain": [
       "SVC(kernel='linear')"
      ]
     },
     "execution_count": 129,
     "metadata": {},
     "output_type": "execute_result"
    }
   ],
   "source": [
    "# training the svm model \n",
    "\n",
    "SVM = SVC(kernel='linear')\n",
    "SVM.fit(X_train,y_train.values.ravel())"
   ]
  },
  {
   "cell_type": "code",
   "execution_count": 130,
   "metadata": {},
   "outputs": [
    {
     "name": "stdout",
     "output_type": "stream",
     "text": [
      "Accuracy on the training set :  0.93125\n",
      "\n",
      "Accuracy on the test set :  0.9294245385450597\n",
      "Precision on the test set :  0.9260273972602739\n",
      "Recall on the test set :  0.898936170212766\n",
      "F1 score on the test set :  0.9122807017543859\n"
     ]
    }
   ],
   "source": [
    "# predicting on the training set\n",
    "y_pred = SVM.predict(X_train)\n",
    "\n",
    "\n",
    "from sklearn.metrics import accuracy_score,precision_score,recall_score,f1_score\n",
    "\n",
    "# get the accuracy\n",
    "\n",
    "print(\"Accuracy on the training set : \",accuracy_score(y_train,y_pred))\n",
    "print()\n",
    "y_pred = SVM.predict(X_test)\n",
    "\n",
    "# get the accuracy on the test set\n",
    "print(\"Accuracy on the test set : \",accuracy_score(y_test,y_pred))\n",
    "\n",
    "# get the precision on the test set \n",
    "print(\"Precision on the test set : \",precision_score(y_test,y_pred))\n",
    "\n",
    "# get the recall\n",
    "print(\"Recall on the test set : \",recall_score(y_test,y_pred))\n",
    "\n",
    "# get the f1 score\n",
    "print(\"F1 score on the test set : \",f1_score(y_test,y_pred))"
   ]
  },
  {
   "cell_type": "code",
   "execution_count": 131,
   "metadata": {},
   "outputs": [],
   "source": [
    "# varying the regularization parameter C\n",
    "\n",
    "C = [0.01,0.1,1,10,100]\n",
    "accuracy = []\n",
    "\n",
    "for c in C:\n",
    "    SVM = SVC(kernel='linear',C=c)\n",
    "    SVM.fit(X_train,y_train.values.ravel())\n",
    "    y_pred = SVM.predict(X_test)\n",
    "    accuracy.append(accuracy_score(y_test,y_pred))\n",
    "    "
   ]
  },
  {
   "cell_type": "code",
   "execution_count": 132,
   "metadata": {},
   "outputs": [
    {
     "name": "stdout",
     "output_type": "stream",
     "text": [
      "╒══════╤════════════╕\n",
      "│  C   │  Accuracy  │\n",
      "╞══════╪════════════╡\n",
      "│ 0.01 │  0.928339  │\n",
      "├──────┼────────────┤\n",
      "│ 0.1  │  0.934853  │\n",
      "├──────┼────────────┤\n",
      "│  1   │  0.929425  │\n",
      "├──────┼────────────┤\n",
      "│  10  │  0.929425  │\n",
      "├──────┼────────────┤\n",
      "│ 100  │  0.931596  │\n",
      "╘══════╧════════════╛\n"
     ]
    },
    {
     "data": {
      "image/png": "[encoded data removed]",
      "text/plain": [
       "<Figure size 640x480 with 1 Axes>"
      ]
     },
     "metadata": {},
     "output_type": "display_data"
    }
   ],
   "source": [
    "# tabulating the results using tabulate with margin\n",
    "print(tabulate(zip(C,accuracy),headers=['C','Accuracy'],tablefmt='fancy_grid',numalign='center',stralign='center'))\n",
    "\n",
    "\n",
    "# plotting the accuracy vs C\n",
    "import matplotlib.pyplot as plt\n",
    "\n",
    "default_C_ticks = range(len(C))\n",
    "plt.plot(default_C_ticks, accuracy)\n",
    "plt.xticks(default_C_ticks, C)\n",
    "\n",
    "\n",
    "plt.xlabel(\"C\")\n",
    "plt.ylabel(\"Accuracy\")\n",
    "plt.title(\"Accuracy vs C\")\n",
    "plt.show()\n"
   ]
  },
  {
   "cell_type": "markdown",
   "metadata": {},
   "source": [
    "## Part B : Kernel Tricks\n",
    "\n",
    "Using 4 different kernels : \n",
    "1. Polynomial with degree 2\n",
    "2. Polynomial with degree 3\n",
    "3. Sigmoid\n",
    "4. Radial Basis Function (RBF)\n"
   ]
  },
  {
   "cell_type": "code",
   "execution_count": 133,
   "metadata": {},
   "outputs": [
    {
     "name": "stdout",
     "output_type": "stream",
     "text": [
      "For polynomial kernel of degree 2 :\n",
      "Accuracy on the test set :  0.8382193268186754\n",
      "Precision on the test set :  0.952191235059761\n",
      "Recall on the test set :  0.6356382978723404\n",
      "F1 score on the test set :  0.7623604465709729\n"
     ]
    }
   ],
   "source": [
    "# polynomial kernel of degree 2\n",
    "SVM = SVC(kernel='poly',degree=2)\n",
    "SVM.fit(X_train,y_train.values.ravel())\n",
    "\n",
    "\n",
    "y_pred = SVM.predict(X_test)\n",
    "\n",
    "print(\"For polynomial kernel of degree 2 :\")\n",
    "# get the accuracy on the test set\n",
    "print(\"Accuracy on the test set : \",accuracy_score(y_test,y_pred))\n",
    "\n",
    "# get the precision on the test set\n",
    "print(\"Precision on the test set : \",precision_score(y_test,y_pred))\n",
    "\n",
    "# get the recall\n",
    "print(\"Recall on the test set : \",recall_score(y_test,y_pred))\n",
    "\n",
    "# get the f1 score\n",
    "print(\"F1 score on the test set : \",f1_score(y_test,y_pred))\n",
    "\n"
   ]
  },
  {
   "cell_type": "code",
   "execution_count": 134,
   "metadata": {},
   "outputs": [
    {
     "name": "stdout",
     "output_type": "stream",
     "text": [
      "For polynomial kernel of degree 3 :\n",
      "Accuracy on the test set :  0.7752442996742671\n",
      "Precision on the test set :  0.9470899470899471\n",
      "Recall on the test set :  0.47606382978723405\n",
      "F1 score on the test set :  0.6336283185840708\n"
     ]
    }
   ],
   "source": [
    "# polynomial kernel of degree 3\n",
    "SVM = SVC(kernel='poly',degree=3)\n",
    "SVM.fit(X_train,y_train.values.ravel())\n",
    "\n",
    "\n",
    "y_pred = SVM.predict(X_test)\n",
    "\n",
    "print(\"For polynomial kernel of degree 3 :\")\n",
    "# get the accuracy on the test set\n",
    "print(\"Accuracy on the test set : \",accuracy_score(y_test,y_pred))\n",
    "\n",
    "# get the precision on the test set\n",
    "print(\"Precision on the test set : \",precision_score(y_test,y_pred))\n",
    "\n",
    "# get the recall\n",
    "print(\"Recall on the test set : \",recall_score(y_test,y_pred))\n",
    "\n",
    "# get the f1 score\n",
    "print(\"F1 score on the test set : \",f1_score(y_test,y_pred))\n",
    "\n"
   ]
  },
  {
   "cell_type": "code",
   "execution_count": 135,
   "metadata": {},
   "outputs": [
    {
     "name": "stdout",
     "output_type": "stream",
     "text": [
      "For Sigmoid Function :\n",
      "Accuracy on the test set :  0.8957654723127035\n",
      "Precision on the test set :  0.8804347826086957\n",
      "Recall on the test set :  0.8617021276595744\n",
      "F1 score on the test set :  0.870967741935484\n"
     ]
    }
   ],
   "source": [
    "# Sigmod kernel \n",
    "SVM = SVC(kernel='sigmoid')\n",
    "SVM.fit(X_train,y_train.values.ravel())\n",
    "\n",
    "\n",
    "y_pred = SVM.predict(X_test)\n",
    "\n",
    "print(\"For Sigmoid Function :\")\n",
    "# get the accuracy on the test set\n",
    "print(\"Accuracy on the test set : \",accuracy_score(y_test,y_pred))\n",
    "\n",
    "# get the precision on the test set\n",
    "print(\"Precision on the test set : \",precision_score(y_test,y_pred))\n",
    "\n",
    "# get the recall\n",
    "print(\"Recall on the test set : \",recall_score(y_test,y_pred))\n",
    "\n",
    "# get the f1 score\n",
    "print(\"F1 score on the test set : \",f1_score(y_test,y_pred))\n",
    "\n"
   ]
  },
  {
   "cell_type": "code",
   "execution_count": 136,
   "metadata": {},
   "outputs": [
    {
     "name": "stdout",
     "output_type": "stream",
     "text": [
      "For Radial Basis Function :\n",
      "Accuracy on the test set :  0.9391965255157437\n",
      "Precision on the test set :  0.949438202247191\n",
      "Recall on the test set :  0.898936170212766\n",
      "F1 score on the test set :  0.9234972677595629\n"
     ]
    }
   ],
   "source": [
    "# rbf kernel\n",
    "SVM = SVC(kernel='rbf')\n",
    "SVM.fit(X_train,y_train.values.ravel())\n",
    "\n",
    "\n",
    "y_pred = SVM.predict(X_test)\n",
    "\n",
    "print(\"For Radial Basis Function :\")\n",
    "# get the accuracy on the test set\n",
    "print(\"Accuracy on the test set : \",accuracy_score(y_test,y_pred))\n",
    "\n",
    "# get the precision on the test set\n",
    "print(\"Precision on the test set : \",precision_score(y_test,y_pred))\n",
    "\n",
    "# get the recall\n",
    "print(\"Recall on the test set : \",recall_score(y_test,y_pred))\n",
    "\n",
    "# get the f1 score\n",
    "print(\"F1 score on the test set : \",f1_score(y_test,y_pred))\n",
    "\n"
   ]
  },
  {
   "cell_type": "markdown",
   "metadata": {},
   "source": [
    "## Part C : Overfitting and Underfitting Analysis \n",
    "\n",
    "We try the SVM on the following experiment : \n",
    "\n",
    "| Experiment | Polynomial Deg | Parameter C |\n",
    "| :--------: | :------------: | :---------: |\n",
    "| 1 | 1 | 0.01 |\n",
    "| 2 | 1 | 100 |\n",
    "| 3 | 3 | 0.01 |\n",
    "| 4 | 3 | 100 |  "
   ]
  },
  {
   "cell_type": "code",
   "execution_count": 137,
   "metadata": {},
   "outputs": [],
   "source": [
    "train_accuracy = []\n",
    "test_accuracy = []\n",
    "X = [\"Exp1\",\"Exp2\",\"Exp3\",\"Exp4\"]"
   ]
  },
  {
   "cell_type": "code",
   "execution_count": 138,
   "metadata": {},
   "outputs": [],
   "source": [
    "# Experiment 1 \n",
    "# C=0.01 and linear kernel\n",
    "SVM = SVC(kernel='linear',C=0.01)\n",
    "SVM.fit(X_train,y_train.values.ravel()) \n",
    "\n",
    "#accuracy on training data\n",
    "y_pred = SVM.predict(X_train)\n",
    "train_accuracy.append(accuracy_score(y_train,y_pred))\n",
    "\n",
    "# accuracy on test data\n",
    "y_pred = SVM.predict(X_test)\n",
    "test_accuracy.append(accuracy_score(y_test,y_pred))\n",
    "\n"
   ]
  },
  {
   "cell_type": "code",
   "execution_count": 139,
   "metadata": {},
   "outputs": [],
   "source": [
    "# Experiment 2\n",
    "# C = 100 and linear kernel\n",
    "SVM = SVC(kernel='linear',C=100)\n",
    "SVM.fit(X_train,y_train.values.ravel())\n",
    "\n",
    "#accuracy on training data\n",
    "y_pred = SVM.predict(X_train)\n",
    "train_accuracy.append(accuracy_score(y_train,y_pred))\n",
    "\n",
    "# accuracy on test data\n",
    "y_pred = SVM.predict(X_test)\n",
    "test_accuracy.append(accuracy_score(y_test,y_pred))\n"
   ]
  },
  {
   "cell_type": "code",
   "execution_count": 140,
   "metadata": {},
   "outputs": [],
   "source": [
    "# Experiment 3\n",
    "# C = 0.01 and polynomial kernel of degree 3\n",
    "SVM = SVC(kernel='poly',C=0.01,degree=3)\n",
    "SVM.fit(X_train,y_train.values.ravel())\n",
    "\n",
    "#accuracy on training data\n",
    "y_pred = SVM.predict(X_train)\n",
    "train_accuracy.append(accuracy_score(y_train,y_pred))\n",
    "\n",
    "# accuracy on test data\n",
    "y_pred = SVM.predict(X_test)\n",
    "test_accuracy.append(accuracy_score(y_test,y_pred))\n"
   ]
  },
  {
   "cell_type": "code",
   "execution_count": 141,
   "metadata": {},
   "outputs": [],
   "source": [
    "# Experiment 4\n",
    "# C=100 and polynomial kernel of degree 3\n",
    "SVM = SVC(kernel='poly',C=100,degree=3)\n",
    "SVM.fit(X_train,y_train.values.ravel())\n",
    "\n",
    "#accuracy on training data\n",
    "y_pred = SVM.predict(X_train)\n",
    "train_accuracy.append(accuracy_score(y_train,y_pred))\n",
    "\n",
    "# accuracy on test data\n",
    "y_pred = SVM.predict(X_test)\n",
    "test_accuracy.append(accuracy_score(y_test,y_pred))\n"
   ]
  },
  {
   "cell_type": "code",
   "execution_count": 142,
   "metadata": {},
   "outputs": [
    {
     "name": "stdout",
     "output_type": "stream",
     "text": [
      "╒══════════════╤═════════════════════╤════════════════════╕\n",
      "│  Experiment  │  Training Accuracy  │  Testing Accuracy  │\n",
      "╞══════════════╪═════════════════════╪════════════════════╡\n",
      "│     Exp1     │      0.920924       │      0.928339      │\n",
      "├──────────────┼─────────────────────┼────────────────────┤\n",
      "│     Exp2     │      0.934239       │      0.931596      │\n",
      "├──────────────┼─────────────────────┼────────────────────┤\n",
      "│     Exp3     │      0.639402       │      0.618893      │\n",
      "├──────────────┼─────────────────────┼────────────────────┤\n",
      "│     Exp4     │      0.963859       │      0.93051       │\n",
      "╘══════════════╧═════════════════════╧════════════════════╛\n"
     ]
    },
    {
     "data": {
      "image/png": "[encoded data removed]",
      "text/plain": [
       "<Figure size 640x480 with 1 Axes>"
      ]
     },
     "metadata": {},
     "output_type": "display_data"
    }
   ],
   "source": [
    "# tabulating the results using tabulate\n",
    "print(tabulate(zip(X,train_accuracy,test_accuracy),headers=['Experiment','Training Accuracy','Testing Accuracy'],tablefmt='fancy_grid',numalign='center',stralign='center'))\n",
    "\n",
    "# Plotting the training accuracy vs Experiment\n",
    "\n",
    "default_C_ticks1 = range(len(X))\n",
    "plt.plot(default_C_ticks1, train_accuracy)\n",
    "plt.xticks(default_C_ticks1, X)\n",
    "plt.xlabel(\"Experiment\")\n",
    "plt.ylabel(\"Accuracy\")\n",
    "\n",
    "# Plotting the test accuracy vs Experiment\n",
    "default_C_ticks2 = range(len(X))\n",
    "plt.plot(default_C_ticks2, test_accuracy)\n",
    "plt.xticks(default_C_ticks2, X)\n",
    "plt.legend([\"Training Accuracy\",\"Testing Accuracy\"])\n",
    "plt.show()\n",
    "\n"
   ]
  },
  {
   "cell_type": "markdown",
   "metadata": {},
   "source": [
    "We see from the table that for a linear kernel , the svm model performs well with a low or high regularisation parameter , so the linear kernel is actually able to well fit the training set , and even generalises well to unseen data (as observed from the test accuracy)\n",
    "\n",
    "Further we see that in the case of polynomial kernel of deg 3 , the model performs well with high regularisation parameter but poorly with low regualrisation parameter value . From this we can infer that the polynomial kernel tends to overfit the data , and the this is why it has poor generalising ability . So if we restrict this overfitting by using a high regularisation parameter , we may not better fit the training set , but we still achieve better generalisation and thats why it performs better on the test set."
   ]
  }
 ],
 "metadata": {
  "kernelspec": {
   "display_name": "env",
   "language": "python",
   "name": "python3"
  },
  "language_info": {
   "codemirror_mode": {
    "name": "ipython",
    "version": 3
   },
   "file_extension": ".py",
   "mimetype": "text/x-python",
   "name": "python",
   "nbconvert_exporter": "python",
   "pygments_lexer": "ipython3",
   "version": "3.9.18"
  },
  "orig_nbformat": 4
 },
 "nbformat": 4,
 "nbformat_minor": 2
}
